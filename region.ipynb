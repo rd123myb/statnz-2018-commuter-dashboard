{
 "cells": [
  {
   "cell_type": "code",
   "execution_count": 1,
   "metadata": {},
   "outputs": [],
   "source": [
    "import pandas as pd"
   ]
  },
  {
   "cell_type": "code",
   "execution_count": 2,
   "metadata": {},
   "outputs": [],
   "source": [
    "df = pd.read_csv('./csv/cleaned_df.csv')    \n",
    "df.drop(columns=['Unnamed: 0'], inplace=True) #drop unnamed index col from last edit\n",
    "region_df = pd.read_csv('./csv/geographic_regions.csv')"
   ]
  },
  {
   "cell_type": "code",
   "execution_count": 3,
   "metadata": {},
   "outputs": [],
   "source": [
    "#add new total based only on published values\n",
    "df['total_without_suppresed_values'] = df['Study_at_home'] + df['Drive_a_car_truck_or_van'] + df['Passenger_in_a_car_truck_or_van'] + df['Train'] + df['Bicycle'] + df['Walk_or_jog'] + df['School_bus'] + df['Public_bus'] + df['Ferry'] + df['Other']"
   ]
  },
  {
   "cell_type": "code",
   "execution_count": 5,
   "metadata": {},
   "outputs": [],
   "source": [
    "#replace region col names for better readability\n",
    "region_df.rename(columns = {'SA22018_name': 'statistical_area', 'UR2018_name': 'urban_rural_descriptor', 'IUR2018_name' : 'urban_rural_indicator_descriptor', 'TA2018_name' : 'territorial_authority', 'AU2017_name' : 'area_unit', 'UA2017_name' : 'urban_area'}, inplace=True)"
   ]
  },
  {
   "cell_type": "code",
   "execution_count": 4,
   "metadata": {},
   "outputs": [
    {
     "output_type": "execute_result",
     "data": {
      "text/plain": "Index(['address', 'address_point', 'school_address', 'school_point',\n       'distance', 'Study_at_home', 'Drive_a_car_truck_or_van',\n       'Passenger_in_a_car_truck_or_van', 'Train', 'Bicycle', 'Walk_or_jog',\n       'School_bus', 'Public_bus', 'Ferry', 'Other', 'Total',\n       'total_without_suppresed_values', 'urban_rural_descriptor',\n       'urban_rural_indicator_descriptor', 'territorial_authority',\n       'area_unit', 'urban_area'],\n      dtype='object')"
     },
     "metadata": {},
     "execution_count": 4
    }
   ],
   "source": [
    "#add new region cols to df\n",
    "\n",
    "region_cols = ['urban_rural_descriptor', 'urban_rural_indicator_descriptor', 'territorial_authority', 'area_unit', 'urban_area']\n",
    "\n",
    "for col in region_cols:\n",
    "    df[col] = ''\n",
    "\n",
    "df.columns"
   ]
  },
  {
   "cell_type": "code",
   "execution_count": 13,
   "metadata": {},
   "outputs": [],
   "source": [
    "def add_region_category(category):\n",
    "    lookup_df = region_df[['statistical_area', category]].drop_duplicates().reset_index()\n",
    "    for i, address in enumerate(df['address']):\n",
    "        for j, area in enumerate(lookup_df['statistical_area']):\n",
    "            if address == area:\n",
    "                df[category][i] = lookup_df[category][j]\n",
    "                break\n"
   ]
  },
  {
   "cell_type": "code",
   "execution_count": null,
   "metadata": {},
   "outputs": [],
   "source": [
    "for col in region_cols:\n",
    "    add_region_category(col)\n",
    "df"
   ]
  },
  {
   "cell_type": "code",
   "execution_count": 14,
   "metadata": {},
   "outputs": [
    {
     "output_type": "execute_result",
     "data": {
      "text/plain": "['urban_rural_descriptor',\n 'urban_rural_indicator_descriptor',\n 'territorial_authority',\n 'area_unit',\n 'urban_area']"
     },
     "metadata": {},
     "execution_count": 14
    }
   ],
   "source": [
    "region_cols"
   ]
  },
  {
   "cell_type": "code",
   "execution_count": 15,
   "metadata": {},
   "outputs": [],
   "source": [
    "add_region_category('urban_rural_descriptor')"
   ]
  },
  {
   "cell_type": "code",
   "execution_count": 16,
   "metadata": {},
   "outputs": [],
   "source": [
    "add_region_category('urban_rural_indicator_descriptor')"
   ]
  },
  {
   "cell_type": "code",
   "execution_count": 17,
   "metadata": {},
   "outputs": [],
   "source": [
    "add_region_category('territorial_authority')"
   ]
  },
  {
   "cell_type": "code",
   "execution_count": 18,
   "metadata": {},
   "outputs": [],
   "source": [
    "add_region_category('area_unit')"
   ]
  },
  {
   "cell_type": "code",
   "execution_count": 19,
   "metadata": {},
   "outputs": [],
   "source": [
    "add_region_category('urban_area')"
   ]
  },
  {
   "cell_type": "code",
   "execution_count": 20,
   "metadata": {},
   "outputs": [
    {
     "output_type": "execute_result",
     "data": {
      "text/plain": "                                address  \\\n0                            North Cape   \n1                      Rangaunu Harbour   \n2                    Karikari Peninsula   \n3                              Tangonge   \n4                               Ahipara   \n...                                 ...   \n22425                       Owhata East   \n22426                            Aranui   \n22427                     Teviot Valley   \n22428                        Woodbourne   \n22429  Hillsborough (Christchurch City)   \n\n                               address_point      school_address  \\\n0      (-34.5054527643316, 172.775549967099)          North Cape   \n1      (-34.9162774394026, 173.137442823842)    Rangaunu Harbour   \n2       (-34.995278160775, 173.378738365012)  Karikari Peninsula   \n3      (-35.1231472715024, 173.218604066373)            Tangonge   \n4      (-35.1595169664155, 173.160919377723)             Ahipara   \n...                                      ...                 ...   \n22425  (-38.1378419704118, 176.298143815984)             Lynmore   \n22426   (-43.510603582444, 172.705323182291)          St Martins   \n22427  (-45.5822705917806, 169.426678965164)     Alexandra South   \n22428  (-41.5308030990199, 173.903637938379)    Redwoodtown West   \n22429  (-43.5603820943057, 172.670139283795)               Opawa   \n\n                                school_point   distance  Study_at_home  \\\n0      (-34.5054527643316, 172.775549967099)   0.000000             27   \n1      (-34.9162774394026, 173.137442823842)   0.000000             54   \n2       (-34.995278160775, 173.378738365012)   0.000000             12   \n3      (-35.1231472715024, 173.218604066373)   0.000000             15   \n4      (-35.1595169664155, 173.160919377723)   0.000000              9   \n...                                      ...        ...            ...   \n22425  (-38.1494057809273, 176.288953622991)   1.515449              0   \n22426  (-43.5572164003909, 172.653955597541)   6.637796              0   \n22427  (-45.2521042100642, 169.375785410127)  36.910261              0   \n22428   (-41.529955595641, 173.948580912091)   3.751993              0   \n22429  (-43.5560822726765, 172.662043856217)   0.809982              0   \n\n       Drive_a_car_truck_or_van  Passenger_in_a_car_truck_or_van  Train  \\\n0                             0                               45      0   \n1                             0                               42      0   \n2                             0                               18      0   \n3                             0                               12      0   \n4                             0                                9      0   \n...                         ...                              ...    ...   \n22425                         0                               45      0   \n22426                         0                                0      0   \n22427                         0                                0      0   \n22428                         0                                6      0   \n22429                         0                               24      0   \n\n       Bicycle  ...  Public_bus  Ferry  Other  Total  \\\n0            0  ...           0      0      0    147   \n1            0  ...           0      0      0    147   \n2            0  ...           0      0      0     54   \n3            0  ...           0      0      0     45   \n4            0  ...           0      0      0     27   \n...        ...  ...         ...    ...    ...    ...   \n22425       15  ...           0      0      0     69   \n22426        0  ...           0      0      0      6   \n22427        0  ...           0      0      0      6   \n22428        0  ...           0      0      0      6   \n22429        9  ...           0      0      0     54   \n\n       total_without_suppresed_values              urban_rural_descriptor  \\\n0                                 144      Other rural Far North District   \n1                                 138      Other rural Far North District   \n2                                  54      Other rural Far North District   \n3                                  42      Other rural Far North District   \n4                                  18                             Ahipara   \n...                               ...                                 ...   \n22425                              66                             Rotorua   \n22426                               0                        Christchurch   \n22427                               0  Other rural Central Otago District   \n22428                               6    Other rural Marlborough District   \n22429                              51                        Christchurch   \n\n       urban_rural_indicator_descriptor   territorial_authority  \\\n0                           Rural other      Far North District   \n1                           Rural other      Far North District   \n2                           Rural other      Far North District   \n3                           Rural other      Far North District   \n4                      Rural settlement      Far North District   \n...                                 ...                     ...   \n22425                  Large urban area        Rotorua District   \n22426                  Major urban area       Christchurch City   \n22427                       Rural other  Central Otago District   \n22428                       Rural other    Marlborough District   \n22429                  Major urban area       Christchurch City   \n\n                              area_unit                           urban_area  \n0                            North Cape  Rural (Incl.some Off Shore Islands)  \n1                   Motutangi-Kareponia  Rural (Incl.some Off Shore Islands)  \n2      Karikari Peninsula-Maungataniwha  Rural (Incl.some Off Shore Islands)  \n3                   Motutangi-Kareponia  Rural (Incl.some Off Shore Islands)  \n4                               Ahipara                         Rural Centre  \n...                                 ...                                  ...  \n22425                       Owhata East                              Rotorua  \n22426                            Aranui                         Christchurch  \n22427                            Teviot  Rural (Incl.some Off Shore Islands)  \n22428                             Omaka                             Blenheim  \n22429                      Rapaki Track                         Christchurch  \n\n[22430 rows x 22 columns]",
      "text/html": "<div>\n<style scoped>\n    .dataframe tbody tr th:only-of-type {\n        vertical-align: middle;\n    }\n\n    .dataframe tbody tr th {\n        vertical-align: top;\n    }\n\n    .dataframe thead th {\n        text-align: right;\n    }\n</style>\n<table border=\"1\" class=\"dataframe\">\n  <thead>\n    <tr style=\"text-align: right;\">\n      <th></th>\n      <th>address</th>\n      <th>address_point</th>\n      <th>school_address</th>\n      <th>school_point</th>\n      <th>distance</th>\n      <th>Study_at_home</th>\n      <th>Drive_a_car_truck_or_van</th>\n      <th>Passenger_in_a_car_truck_or_van</th>\n      <th>Train</th>\n      <th>Bicycle</th>\n      <th>...</th>\n      <th>Public_bus</th>\n      <th>Ferry</th>\n      <th>Other</th>\n      <th>Total</th>\n      <th>total_without_suppresed_values</th>\n      <th>urban_rural_descriptor</th>\n      <th>urban_rural_indicator_descriptor</th>\n      <th>territorial_authority</th>\n      <th>area_unit</th>\n      <th>urban_area</th>\n    </tr>\n  </thead>\n  <tbody>\n    <tr>\n      <th>0</th>\n      <td>North Cape</td>\n      <td>(-34.5054527643316, 172.775549967099)</td>\n      <td>North Cape</td>\n      <td>(-34.5054527643316, 172.775549967099)</td>\n      <td>0.000000</td>\n      <td>27</td>\n      <td>0</td>\n      <td>45</td>\n      <td>0</td>\n      <td>0</td>\n      <td>...</td>\n      <td>0</td>\n      <td>0</td>\n      <td>0</td>\n      <td>147</td>\n      <td>144</td>\n      <td>Other rural Far North District</td>\n      <td>Rural other</td>\n      <td>Far North District</td>\n      <td>North Cape</td>\n      <td>Rural (Incl.some Off Shore Islands)</td>\n    </tr>\n    <tr>\n      <th>1</th>\n      <td>Rangaunu Harbour</td>\n      <td>(-34.9162774394026, 173.137442823842)</td>\n      <td>Rangaunu Harbour</td>\n      <td>(-34.9162774394026, 173.137442823842)</td>\n      <td>0.000000</td>\n      <td>54</td>\n      <td>0</td>\n      <td>42</td>\n      <td>0</td>\n      <td>0</td>\n      <td>...</td>\n      <td>0</td>\n      <td>0</td>\n      <td>0</td>\n      <td>147</td>\n      <td>138</td>\n      <td>Other rural Far North District</td>\n      <td>Rural other</td>\n      <td>Far North District</td>\n      <td>Motutangi-Kareponia</td>\n      <td>Rural (Incl.some Off Shore Islands)</td>\n    </tr>\n    <tr>\n      <th>2</th>\n      <td>Karikari Peninsula</td>\n      <td>(-34.995278160775, 173.378738365012)</td>\n      <td>Karikari Peninsula</td>\n      <td>(-34.995278160775, 173.378738365012)</td>\n      <td>0.000000</td>\n      <td>12</td>\n      <td>0</td>\n      <td>18</td>\n      <td>0</td>\n      <td>0</td>\n      <td>...</td>\n      <td>0</td>\n      <td>0</td>\n      <td>0</td>\n      <td>54</td>\n      <td>54</td>\n      <td>Other rural Far North District</td>\n      <td>Rural other</td>\n      <td>Far North District</td>\n      <td>Karikari Peninsula-Maungataniwha</td>\n      <td>Rural (Incl.some Off Shore Islands)</td>\n    </tr>\n    <tr>\n      <th>3</th>\n      <td>Tangonge</td>\n      <td>(-35.1231472715024, 173.218604066373)</td>\n      <td>Tangonge</td>\n      <td>(-35.1231472715024, 173.218604066373)</td>\n      <td>0.000000</td>\n      <td>15</td>\n      <td>0</td>\n      <td>12</td>\n      <td>0</td>\n      <td>0</td>\n      <td>...</td>\n      <td>0</td>\n      <td>0</td>\n      <td>0</td>\n      <td>45</td>\n      <td>42</td>\n      <td>Other rural Far North District</td>\n      <td>Rural other</td>\n      <td>Far North District</td>\n      <td>Motutangi-Kareponia</td>\n      <td>Rural (Incl.some Off Shore Islands)</td>\n    </tr>\n    <tr>\n      <th>4</th>\n      <td>Ahipara</td>\n      <td>(-35.1595169664155, 173.160919377723)</td>\n      <td>Ahipara</td>\n      <td>(-35.1595169664155, 173.160919377723)</td>\n      <td>0.000000</td>\n      <td>9</td>\n      <td>0</td>\n      <td>9</td>\n      <td>0</td>\n      <td>0</td>\n      <td>...</td>\n      <td>0</td>\n      <td>0</td>\n      <td>0</td>\n      <td>27</td>\n      <td>18</td>\n      <td>Ahipara</td>\n      <td>Rural settlement</td>\n      <td>Far North District</td>\n      <td>Ahipara</td>\n      <td>Rural Centre</td>\n    </tr>\n    <tr>\n      <th>...</th>\n      <td>...</td>\n      <td>...</td>\n      <td>...</td>\n      <td>...</td>\n      <td>...</td>\n      <td>...</td>\n      <td>...</td>\n      <td>...</td>\n      <td>...</td>\n      <td>...</td>\n      <td>...</td>\n      <td>...</td>\n      <td>...</td>\n      <td>...</td>\n      <td>...</td>\n      <td>...</td>\n      <td>...</td>\n      <td>...</td>\n      <td>...</td>\n      <td>...</td>\n      <td>...</td>\n    </tr>\n    <tr>\n      <th>22425</th>\n      <td>Owhata East</td>\n      <td>(-38.1378419704118, 176.298143815984)</td>\n      <td>Lynmore</td>\n      <td>(-38.1494057809273, 176.288953622991)</td>\n      <td>1.515449</td>\n      <td>0</td>\n      <td>0</td>\n      <td>45</td>\n      <td>0</td>\n      <td>15</td>\n      <td>...</td>\n      <td>0</td>\n      <td>0</td>\n      <td>0</td>\n      <td>69</td>\n      <td>66</td>\n      <td>Rotorua</td>\n      <td>Large urban area</td>\n      <td>Rotorua District</td>\n      <td>Owhata East</td>\n      <td>Rotorua</td>\n    </tr>\n    <tr>\n      <th>22426</th>\n      <td>Aranui</td>\n      <td>(-43.510603582444, 172.705323182291)</td>\n      <td>St Martins</td>\n      <td>(-43.5572164003909, 172.653955597541)</td>\n      <td>6.637796</td>\n      <td>0</td>\n      <td>0</td>\n      <td>0</td>\n      <td>0</td>\n      <td>0</td>\n      <td>...</td>\n      <td>0</td>\n      <td>0</td>\n      <td>0</td>\n      <td>6</td>\n      <td>0</td>\n      <td>Christchurch</td>\n      <td>Major urban area</td>\n      <td>Christchurch City</td>\n      <td>Aranui</td>\n      <td>Christchurch</td>\n    </tr>\n    <tr>\n      <th>22427</th>\n      <td>Teviot Valley</td>\n      <td>(-45.5822705917806, 169.426678965164)</td>\n      <td>Alexandra South</td>\n      <td>(-45.2521042100642, 169.375785410127)</td>\n      <td>36.910261</td>\n      <td>0</td>\n      <td>0</td>\n      <td>0</td>\n      <td>0</td>\n      <td>0</td>\n      <td>...</td>\n      <td>0</td>\n      <td>0</td>\n      <td>0</td>\n      <td>6</td>\n      <td>0</td>\n      <td>Other rural Central Otago District</td>\n      <td>Rural other</td>\n      <td>Central Otago District</td>\n      <td>Teviot</td>\n      <td>Rural (Incl.some Off Shore Islands)</td>\n    </tr>\n    <tr>\n      <th>22428</th>\n      <td>Woodbourne</td>\n      <td>(-41.5308030990199, 173.903637938379)</td>\n      <td>Redwoodtown West</td>\n      <td>(-41.529955595641, 173.948580912091)</td>\n      <td>3.751993</td>\n      <td>0</td>\n      <td>0</td>\n      <td>6</td>\n      <td>0</td>\n      <td>0</td>\n      <td>...</td>\n      <td>0</td>\n      <td>0</td>\n      <td>0</td>\n      <td>6</td>\n      <td>6</td>\n      <td>Other rural Marlborough District</td>\n      <td>Rural other</td>\n      <td>Marlborough District</td>\n      <td>Omaka</td>\n      <td>Blenheim</td>\n    </tr>\n    <tr>\n      <th>22429</th>\n      <td>Hillsborough (Christchurch City)</td>\n      <td>(-43.5603820943057, 172.670139283795)</td>\n      <td>Opawa</td>\n      <td>(-43.5560822726765, 172.662043856217)</td>\n      <td>0.809982</td>\n      <td>0</td>\n      <td>0</td>\n      <td>24</td>\n      <td>0</td>\n      <td>9</td>\n      <td>...</td>\n      <td>0</td>\n      <td>0</td>\n      <td>0</td>\n      <td>54</td>\n      <td>51</td>\n      <td>Christchurch</td>\n      <td>Major urban area</td>\n      <td>Christchurch City</td>\n      <td>Rapaki Track</td>\n      <td>Christchurch</td>\n    </tr>\n  </tbody>\n</table>\n<p>22430 rows × 22 columns</p>\n</div>"
     },
     "metadata": {},
     "execution_count": 20
    }
   ],
   "source": [
    "df"
   ]
  },
  {
   "cell_type": "code",
   "execution_count": null,
   "metadata": {},
   "outputs": [],
   "source": []
  }
 ],
 "metadata": {
  "language_info": {
   "codemirror_mode": {
    "name": "ipython",
    "version": 3
   },
   "file_extension": ".py",
   "mimetype": "text/x-python",
   "name": "python",
   "nbconvert_exporter": "python",
   "pygments_lexer": "ipython3",
   "version": "3.8.2-final"
  },
  "orig_nbformat": 2,
  "kernelspec": {
   "name": "python38264bitvenvvenv2b8d02bde5114e71a90b49f276543fa5",
   "display_name": "Python 3.8.2 64-bit ('venv': venv)"
  }
 },
 "nbformat": 4,
 "nbformat_minor": 2
}