{
 "cells": [
  {
   "cell_type": "code",
   "execution_count": 1,
   "metadata": {},
   "outputs": [],
   "source": [
    "import pandas as pd\n",
    "import geopy.distance as distance\n",
    "from ast import literal_eval as make_tuple\n",
    "\n",
    "#adding lat/long/coord/distance\n",
    "\n",
    "centroid_latlong_df = pd.read_csv('csv/statistical-area-2-2018-centroid-inside.csv')\n",
    "\n",
    "#read commuting to school data\n",
    "df = pd.read_csv('csv/2018.csv')\n",
    "\n",
    "#replace all suppresed values with 0\n",
    "df.replace(-999, 0, inplace=True)"
   ]
  },
  {
   "cell_type": "code",
   "execution_count": 2,
   "metadata": {},
   "outputs": [],
   "source": [
    "#add new total based only on published values\n",
    "df['Total_without_suppresed_values'] = df['Study_at_home'] + df['Drive_a_car_truck_or_van'] + df['Passenger_in_a_car_truck_or_van'] + df['Train'] + df['Bicycle'] + df['Walk_or_jog'] + df['School_bus'] + df['Public_bus'] + df['Ferry'] + df['Other']"
   ]
  },
  {
   "cell_type": "code",
   "execution_count": 3,
   "metadata": {},
   "outputs": [
    {
     "output_type": "execute_result",
     "data": {
      "text/plain": "0        (-35.6294436685506, 174.28665672124)\n1       (-44.0970108698041, 170.825353451148)\n2       (-34.5054527643316, 172.775549967099)\n3       (-34.9162774394026, 173.137442823842)\n4       (-35.2185013354381, 174.158249405953)\n                        ...                  \n2232      (-43.9582203749606, 172.7389225487)\n2233    (-46.1322836159479, 170.343623564645)\n2234    (-37.8523753096606, 175.293653883253)\n2235    (-43.0689157697391, 171.672755166319)\n2236    (-43.3456883294022, 171.903203084593)\nName: WKT, Length: 2237, dtype: object"
     },
     "metadata": {},
     "execution_count": 3
    }
   ],
   "source": [
    "#turn first POINT(LONG, LAT) col into tuples\n",
    "centroid_latlong_df['WKT'] = centroid_latlong_df['WKT'].apply(lambda x: make_tuple(x[6:].replace(' ', ',')))\n",
    "#switch (long, lat) into (lat, long) to match the distance function args\n",
    "centroid_latlong_df['WKT'] = centroid_latlong_df['WKT'].apply(lambda x: (x[1], x[0]))\n",
    "centroid_latlong_df['WKT']"
   ]
  },
  {
   "cell_type": "code",
   "execution_count": 4,
   "metadata": {},
   "outputs": [],
   "source": [
    "def add_lat_long_point(place):\n",
    "    lat = place + '_lat'\n",
    "    long = place + '_long'\n",
    "    point = place + '_point'\n",
    "    for col in [lat, long, point]:\n",
    "        df[col] = ''\n",
    "    for i, c in enumerate(df[place + '_' + 'code']):\n",
    "        for j, code in enumerate(centroid_latlong_df['code']):\n",
    "            if c == code:\n",
    "                df[lat][i] = centroid_latlong_df['latitude'][j] \n",
    "                df[long][i] = centroid_latlong_df['longitude'][j] \n",
    "                df[point][i] = centroid_latlong_df['WKT'][j]"
   ]
  },
  {
   "cell_type": "code",
   "execution_count": 5,
   "metadata": {},
   "outputs": [],
   "source": [
    "#This may take a while!\n",
    "\n",
    "add_lat_long_point('address')\n",
    "add_lat_long_point('school')"
   ]
  },
  {
   "cell_type": "code",
   "execution_count": 6,
   "metadata": {},
   "outputs": [
    {
     "output_type": "execute_result",
     "data": {
      "text/plain": "                                address address_lat address_long  \\\n0                            North Cape    -34.5055      172.776   \n1                      Rangaunu Harbour    -34.9163      173.137   \n2                    Karikari Peninsula    -34.9953      173.379   \n3                              Tangonge    -35.1231      173.219   \n4                               Ahipara    -35.1595      173.161   \n...                                 ...         ...          ...   \n22425                       Owhata East    -38.1378      176.298   \n22426                            Aranui    -43.5106      172.705   \n22427                     Teviot Valley    -45.5823      169.427   \n22428                        Woodbourne    -41.5308      173.904   \n22429  Hillsborough (Christchurch City)    -43.5604       172.67   \n\n                               address_point      school_address school_lat  \\\n0      (-34.5054527643316, 172.775549967099)          North Cape   -34.5055   \n1      (-34.9162774394026, 173.137442823842)    Rangaunu Harbour   -34.9163   \n2       (-34.995278160775, 173.378738365012)  Karikari Peninsula   -34.9953   \n3      (-35.1231472715024, 173.218604066373)            Tangonge   -35.1231   \n4      (-35.1595169664155, 173.160919377723)             Ahipara   -35.1595   \n...                                      ...                 ...        ...   \n22425  (-38.1378419704118, 176.298143815984)             Lynmore   -38.1494   \n22426   (-43.510603582444, 172.705323182291)          St Martins   -43.5572   \n22427  (-45.5822705917806, 169.426678965164)     Alexandra South   -45.2521   \n22428  (-41.5308030990199, 173.903637938379)    Redwoodtown West     -41.53   \n22429  (-43.5603820943057, 172.670139283795)               Opawa   -43.5561   \n\n      school_long                           school_point  \n0         172.776  (-34.5054527643316, 172.775549967099)  \n1         173.137  (-34.9162774394026, 173.137442823842)  \n2         173.379   (-34.995278160775, 173.378738365012)  \n3         173.219  (-35.1231472715024, 173.218604066373)  \n4         173.161  (-35.1595169664155, 173.160919377723)  \n...           ...                                    ...  \n22425     176.289  (-38.1494057809273, 176.288953622991)  \n22426     172.654  (-43.5572164003909, 172.653955597541)  \n22427     169.376  (-45.2521042100642, 169.375785410127)  \n22428     173.949   (-41.529955595641, 173.948580912091)  \n22429     172.662  (-43.5560822726765, 172.662043856217)  \n\n[22430 rows x 8 columns]",
      "text/html": "<div>\n<style scoped>\n    .dataframe tbody tr th:only-of-type {\n        vertical-align: middle;\n    }\n\n    .dataframe tbody tr th {\n        vertical-align: top;\n    }\n\n    .dataframe thead th {\n        text-align: right;\n    }\n</style>\n<table border=\"1\" class=\"dataframe\">\n  <thead>\n    <tr style=\"text-align: right;\">\n      <th></th>\n      <th>address</th>\n      <th>address_lat</th>\n      <th>address_long</th>\n      <th>address_point</th>\n      <th>school_address</th>\n      <th>school_lat</th>\n      <th>school_long</th>\n      <th>school_point</th>\n    </tr>\n  </thead>\n  <tbody>\n    <tr>\n      <th>0</th>\n      <td>North Cape</td>\n      <td>-34.5055</td>\n      <td>172.776</td>\n      <td>(-34.5054527643316, 172.775549967099)</td>\n      <td>North Cape</td>\n      <td>-34.5055</td>\n      <td>172.776</td>\n      <td>(-34.5054527643316, 172.775549967099)</td>\n    </tr>\n    <tr>\n      <th>1</th>\n      <td>Rangaunu Harbour</td>\n      <td>-34.9163</td>\n      <td>173.137</td>\n      <td>(-34.9162774394026, 173.137442823842)</td>\n      <td>Rangaunu Harbour</td>\n      <td>-34.9163</td>\n      <td>173.137</td>\n      <td>(-34.9162774394026, 173.137442823842)</td>\n    </tr>\n    <tr>\n      <th>2</th>\n      <td>Karikari Peninsula</td>\n      <td>-34.9953</td>\n      <td>173.379</td>\n      <td>(-34.995278160775, 173.378738365012)</td>\n      <td>Karikari Peninsula</td>\n      <td>-34.9953</td>\n      <td>173.379</td>\n      <td>(-34.995278160775, 173.378738365012)</td>\n    </tr>\n    <tr>\n      <th>3</th>\n      <td>Tangonge</td>\n      <td>-35.1231</td>\n      <td>173.219</td>\n      <td>(-35.1231472715024, 173.218604066373)</td>\n      <td>Tangonge</td>\n      <td>-35.1231</td>\n      <td>173.219</td>\n      <td>(-35.1231472715024, 173.218604066373)</td>\n    </tr>\n    <tr>\n      <th>4</th>\n      <td>Ahipara</td>\n      <td>-35.1595</td>\n      <td>173.161</td>\n      <td>(-35.1595169664155, 173.160919377723)</td>\n      <td>Ahipara</td>\n      <td>-35.1595</td>\n      <td>173.161</td>\n      <td>(-35.1595169664155, 173.160919377723)</td>\n    </tr>\n    <tr>\n      <th>...</th>\n      <td>...</td>\n      <td>...</td>\n      <td>...</td>\n      <td>...</td>\n      <td>...</td>\n      <td>...</td>\n      <td>...</td>\n      <td>...</td>\n    </tr>\n    <tr>\n      <th>22425</th>\n      <td>Owhata East</td>\n      <td>-38.1378</td>\n      <td>176.298</td>\n      <td>(-38.1378419704118, 176.298143815984)</td>\n      <td>Lynmore</td>\n      <td>-38.1494</td>\n      <td>176.289</td>\n      <td>(-38.1494057809273, 176.288953622991)</td>\n    </tr>\n    <tr>\n      <th>22426</th>\n      <td>Aranui</td>\n      <td>-43.5106</td>\n      <td>172.705</td>\n      <td>(-43.510603582444, 172.705323182291)</td>\n      <td>St Martins</td>\n      <td>-43.5572</td>\n      <td>172.654</td>\n      <td>(-43.5572164003909, 172.653955597541)</td>\n    </tr>\n    <tr>\n      <th>22427</th>\n      <td>Teviot Valley</td>\n      <td>-45.5823</td>\n      <td>169.427</td>\n      <td>(-45.5822705917806, 169.426678965164)</td>\n      <td>Alexandra South</td>\n      <td>-45.2521</td>\n      <td>169.376</td>\n      <td>(-45.2521042100642, 169.375785410127)</td>\n    </tr>\n    <tr>\n      <th>22428</th>\n      <td>Woodbourne</td>\n      <td>-41.5308</td>\n      <td>173.904</td>\n      <td>(-41.5308030990199, 173.903637938379)</td>\n      <td>Redwoodtown West</td>\n      <td>-41.53</td>\n      <td>173.949</td>\n      <td>(-41.529955595641, 173.948580912091)</td>\n    </tr>\n    <tr>\n      <th>22429</th>\n      <td>Hillsborough (Christchurch City)</td>\n      <td>-43.5604</td>\n      <td>172.67</td>\n      <td>(-43.5603820943057, 172.670139283795)</td>\n      <td>Opawa</td>\n      <td>-43.5561</td>\n      <td>172.662</td>\n      <td>(-43.5560822726765, 172.662043856217)</td>\n    </tr>\n  </tbody>\n</table>\n<p>22430 rows × 8 columns</p>\n</div>"
     },
     "metadata": {},
     "execution_count": 6
    }
   ],
   "source": [
    "#check to make sure all coords are added\n",
    "df[['address', 'address_lat', 'address_long', 'address_point', 'school_address', 'school_lat', 'school_long', 'school_point']]"
   ]
  },
  {
   "cell_type": "code",
   "execution_count": 7,
   "metadata": {},
   "outputs": [],
   "source": [
    "#create a new col for distance:\n",
    "df['distance'] = ''\n",
    "#loop over distance col and calculate distance between address and school using distance() from geopy lib.\n",
    "for i, d in enumerate(df['distance']):\n",
    "    df['distance'][i] = distance.distance(df['address_point'][i], df['school_point'][i]).km"
   ]
  },
  {
   "cell_type": "code",
   "execution_count": 8,
   "metadata": {},
   "outputs": [
    {
     "output_type": "execute_result",
     "data": {
      "text/plain": "0               0\n1               0\n2               0\n3               0\n4               0\n           ...   \n22425     1.51545\n22426      6.6378\n22427     36.9103\n22428     3.75199\n22429    0.809982\nName: distance, Length: 22430, dtype: object"
     },
     "metadata": {},
     "execution_count": 8
    }
   ],
   "source": [
    "df['distance']"
   ]
  },
  {
   "cell_type": "code",
   "execution_count": 9,
   "metadata": {},
   "outputs": [
    {
     "output_type": "execute_result",
     "data": {
      "text/plain": "2059"
     },
     "metadata": {},
     "execution_count": 9
    }
   ],
   "source": [
    "#number of cases where ppl travel within an area (distance = 0) => can calculate the percentage of those who study/work out of their area\n",
    "len(df[df['distance'] == 0])"
   ]
  },
  {
   "cell_type": "code",
   "execution_count": 10,
   "metadata": {},
   "outputs": [
    {
     "output_type": "execute_result",
     "data": {
      "text/plain": "2059"
     },
     "metadata": {},
     "execution_count": 10
    }
   ],
   "source": [
    "#Double-check! The distance should be 0 when address and school adress are the same! So our calculations are correct\n",
    "len(df[df['address'] == df['school_address']])"
   ]
  },
  {
   "cell_type": "code",
   "execution_count": 11,
   "metadata": {},
   "outputs": [],
   "source": [
    "#NOTE: adding region\n",
    "region_df = pd.read_csv('./csv/geographic_regions.csv')\n",
    "\n",
    "#replace region relevant col names for better readability\n",
    "region_df.rename(columns = {'SA22018_name': 'statistical_area', 'UR2018_name': 'urban_rural_descriptor', 'IUR2018_name' : 'urban_rural_indicator_descriptor', 'TA2018_name' : 'territorial_authority', 'AU2017_name' : 'area_unit', 'UA2017_name' : 'urban_area'}, inplace=True)"
   ]
  },
  {
   "cell_type": "code",
   "execution_count": 12,
   "metadata": {},
   "outputs": [],
   "source": [
    "#a function for looking up each region category by stat_area and adding the corresponding value to the main df\n",
    "def add_region_category(category):\n",
    "    #create a look-up df with 2 cols: stat_area and the region category in question\n",
    "    lookup_df = region_df[['statistical_area', category]].drop_duplicates().reset_index()\n",
    "    for i, address in enumerate(df['address']):\n",
    "        for j, area in enumerate(lookup_df['statistical_area']):\n",
    "            if address == area:\n",
    "                df[category][i] = lookup_df[category][j]\n",
    "                break"
   ]
  },
  {
   "cell_type": "code",
   "execution_count": 13,
   "metadata": {},
   "outputs": [],
   "source": [
    "#make a list of new region cols to be added to df. The names must match up with the names in the region_df\n",
    "region_cols = ['urban_rural_descriptor', 'urban_rural_indicator_descriptor', 'territorial_authority', 'area_unit', 'urban_area']\n",
    "\n",
    "#for each col, make a new col in df and apply the above function to fill the col with the matching regional category/label. This may take a while!\n",
    "for col in region_cols:\n",
    "    df[col] = ''\n",
    "    add_region_category(col)"
   ]
  },
  {
   "cell_type": "code",
   "execution_count": 14,
   "metadata": {},
   "outputs": [
    {
     "output_type": "execute_result",
     "data": {
      "text/plain": "                   urban_rural_descriptor urban_rural_indicator_descriptor  \\\n0          Other rural Far North District                      Rural other   \n1          Other rural Far North District                      Rural other   \n2          Other rural Far North District                      Rural other   \n3          Other rural Far North District                      Rural other   \n4                                 Ahipara                 Rural settlement   \n...                                   ...                              ...   \n22425                             Rotorua                 Large urban area   \n22426                        Christchurch                 Major urban area   \n22427  Other rural Central Otago District                      Rural other   \n22428    Other rural Marlborough District                      Rural other   \n22429                        Christchurch                 Major urban area   \n\n        territorial_authority                         area_unit  \\\n0          Far North District                        North Cape   \n1          Far North District               Motutangi-Kareponia   \n2          Far North District  Karikari Peninsula-Maungataniwha   \n3          Far North District               Motutangi-Kareponia   \n4          Far North District                           Ahipara   \n...                       ...                               ...   \n22425        Rotorua District                       Owhata East   \n22426       Christchurch City                            Aranui   \n22427  Central Otago District                            Teviot   \n22428    Marlborough District                             Omaka   \n22429       Christchurch City                      Rapaki Track   \n\n                                urban_area                           address  \n0      Rural (Incl.some Off Shore Islands)                        North Cape  \n1      Rural (Incl.some Off Shore Islands)                  Rangaunu Harbour  \n2      Rural (Incl.some Off Shore Islands)                Karikari Peninsula  \n3      Rural (Incl.some Off Shore Islands)                          Tangonge  \n4                             Rural Centre                           Ahipara  \n...                                    ...                               ...  \n22425                              Rotorua                       Owhata East  \n22426                         Christchurch                            Aranui  \n22427  Rural (Incl.some Off Shore Islands)                     Teviot Valley  \n22428                             Blenheim                        Woodbourne  \n22429                         Christchurch  Hillsborough (Christchurch City)  \n\n[22430 rows x 6 columns]",
      "text/html": "<div>\n<style scoped>\n    .dataframe tbody tr th:only-of-type {\n        vertical-align: middle;\n    }\n\n    .dataframe tbody tr th {\n        vertical-align: top;\n    }\n\n    .dataframe thead th {\n        text-align: right;\n    }\n</style>\n<table border=\"1\" class=\"dataframe\">\n  <thead>\n    <tr style=\"text-align: right;\">\n      <th></th>\n      <th>urban_rural_descriptor</th>\n      <th>urban_rural_indicator_descriptor</th>\n      <th>territorial_authority</th>\n      <th>area_unit</th>\n      <th>urban_area</th>\n      <th>address</th>\n    </tr>\n  </thead>\n  <tbody>\n    <tr>\n      <th>0</th>\n      <td>Other rural Far North District</td>\n      <td>Rural other</td>\n      <td>Far North District</td>\n      <td>North Cape</td>\n      <td>Rural (Incl.some Off Shore Islands)</td>\n      <td>North Cape</td>\n    </tr>\n    <tr>\n      <th>1</th>\n      <td>Other rural Far North District</td>\n      <td>Rural other</td>\n      <td>Far North District</td>\n      <td>Motutangi-Kareponia</td>\n      <td>Rural (Incl.some Off Shore Islands)</td>\n      <td>Rangaunu Harbour</td>\n    </tr>\n    <tr>\n      <th>2</th>\n      <td>Other rural Far North District</td>\n      <td>Rural other</td>\n      <td>Far North District</td>\n      <td>Karikari Peninsula-Maungataniwha</td>\n      <td>Rural (Incl.some Off Shore Islands)</td>\n      <td>Karikari Peninsula</td>\n    </tr>\n    <tr>\n      <th>3</th>\n      <td>Other rural Far North District</td>\n      <td>Rural other</td>\n      <td>Far North District</td>\n      <td>Motutangi-Kareponia</td>\n      <td>Rural (Incl.some Off Shore Islands)</td>\n      <td>Tangonge</td>\n    </tr>\n    <tr>\n      <th>4</th>\n      <td>Ahipara</td>\n      <td>Rural settlement</td>\n      <td>Far North District</td>\n      <td>Ahipara</td>\n      <td>Rural Centre</td>\n      <td>Ahipara</td>\n    </tr>\n    <tr>\n      <th>...</th>\n      <td>...</td>\n      <td>...</td>\n      <td>...</td>\n      <td>...</td>\n      <td>...</td>\n      <td>...</td>\n    </tr>\n    <tr>\n      <th>22425</th>\n      <td>Rotorua</td>\n      <td>Large urban area</td>\n      <td>Rotorua District</td>\n      <td>Owhata East</td>\n      <td>Rotorua</td>\n      <td>Owhata East</td>\n    </tr>\n    <tr>\n      <th>22426</th>\n      <td>Christchurch</td>\n      <td>Major urban area</td>\n      <td>Christchurch City</td>\n      <td>Aranui</td>\n      <td>Christchurch</td>\n      <td>Aranui</td>\n    </tr>\n    <tr>\n      <th>22427</th>\n      <td>Other rural Central Otago District</td>\n      <td>Rural other</td>\n      <td>Central Otago District</td>\n      <td>Teviot</td>\n      <td>Rural (Incl.some Off Shore Islands)</td>\n      <td>Teviot Valley</td>\n    </tr>\n    <tr>\n      <th>22428</th>\n      <td>Other rural Marlborough District</td>\n      <td>Rural other</td>\n      <td>Marlborough District</td>\n      <td>Omaka</td>\n      <td>Blenheim</td>\n      <td>Woodbourne</td>\n    </tr>\n    <tr>\n      <th>22429</th>\n      <td>Christchurch</td>\n      <td>Major urban area</td>\n      <td>Christchurch City</td>\n      <td>Rapaki Track</td>\n      <td>Christchurch</td>\n      <td>Hillsborough (Christchurch City)</td>\n    </tr>\n  </tbody>\n</table>\n<p>22430 rows × 6 columns</p>\n</div>"
     },
     "metadata": {},
     "execution_count": 14
    }
   ],
   "source": [
    "#check to make sure that all categories have been added to the right address\n",
    "region_cols.append('address')\n",
    "df[region_cols]"
   ]
  },
  {
   "cell_type": "code",
   "execution_count": 15,
   "metadata": {
    "tags": []
   },
   "outputs": [
    {
     "output_type": "stream",
     "name": "stdout",
     "text": "Number of Unique urban rural descriptor: 317\nNumber of Unique urban rural indicator descriptor: 7\nNumber of Unique territorial authority: 67\nNumber of Unique area unit: 1390\nNumber of Unique urban area: 141\n"
    }
   ],
   "source": [
    "#the number of distinct labels in each categorization scheme:\n",
    "for scheme in ['urban_rural_descriptor', 'urban_rural_indicator_descriptor', 'territorial_authority', 'area_unit', 'urban_area']:\n",
    "    print('Number of Unique ' + scheme.replace('_', ' ') + ': ' + str(len(df[scheme].unique())))\n",
    "\n",
    "#the order of columns will be ascending (general=>specific) (in case we want to make a sunburst chart). Still, these schemes should be used independently (???)"
   ]
  },
  {
   "cell_type": "code",
   "execution_count": 16,
   "metadata": {},
   "outputs": [],
   "source": [
    "#reorder the columns in df before saving to csv (address/stat area should be the most specific) (remove easting/northing)\n",
    "clean_df = df[['urban_rural_indicator_descriptor', 'territorial_authority', 'urban_area', 'urban_rural_descriptor', 'area_unit', 'address', 'address_code', 'address_lat', 'address_long', 'address_point', 'school_address', 'school_code', 'school_lat', 'school_long', 'school_point', 'distance', 'Study_at_home', 'Drive_a_car_truck_or_van','Passenger_in_a_car_truck_or_van', 'Train', 'Bicycle', 'Walk_or_jog','School_bus', 'Public_bus', 'Ferry', 'Other', 'Total', 'Total_without_suppresed_values']]\n",
    "\n",
    "pd.DataFrame.to_csv(clean_df, './csv/cleaned_df.csv')"
   ]
  }
 ],
 "metadata": {
  "language_info": {
   "codemirror_mode": {
    "name": "ipython",
    "version": 3
   },
   "file_extension": ".py",
   "mimetype": "text/x-python",
   "name": "python",
   "nbconvert_exporter": "python",
   "pygments_lexer": "ipython3",
   "version": "3.8.2-final"
  },
  "orig_nbformat": 2,
  "kernelspec": {
   "name": "python38264bitvenvvenv2b8d02bde5114e71a90b49f276543fa5",
   "display_name": "Python 3.8.2 64-bit ('venv': venv)"
  }
 },
 "nbformat": 4,
 "nbformat_minor": 2
}