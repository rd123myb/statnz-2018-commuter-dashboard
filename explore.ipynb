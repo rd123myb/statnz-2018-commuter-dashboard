{
 "cells": [
  {
   "cell_type": "code",
   "execution_count": 1,
   "metadata": {},
   "outputs": [
    {
     "output_type": "execute_result",
     "data": {
      "text/plain": "0        144\n1        138\n2         54\n3         42\n4         18\n        ... \n22425     66\n22426      0\n22427      0\n22428      6\n22429     51\nName: total_without_suppresed_values, Length: 22430, dtype: int64"
     },
     "metadata": {},
     "execution_count": 1
    }
   ],
   "source": [
    "import pandas as pd\n",
    "import random\n",
    "\n",
    "df = pd.read_csv('csv/2018.csv')\n",
    "#replace all suppresed values with 0\n",
    "df.replace(-999, 0, inplace=True)\n",
    "df['total_without_suppresed_values'] = df['Study_at_home'] + df['Drive_a_car_truck_or_van'] + df['Passenger_in_a_car_truck_or_van'] + df['Train'] + df['Bicycle'] + df['Walk_or_jog'] + df['School_bus'] + df['Public_bus'] + df['Ferry'] + df['Other']\n",
    "df['total_without_suppresed_values']"
   ]
  },
  {
   "cell_type": "code",
   "execution_count": 2,
   "metadata": {},
   "outputs": [
    {
     "output_type": "execute_result",
     "data": {
      "text/plain": "       address_code                           address  address_easting  \\\n0            100100                        North Cape      1579396.081   \n1            100200                  Rangaunu Harbour      1612554.651   \n2            100400                Karikari Peninsula      1634562.574   \n3            100500                          Tangonge      1619918.067   \n4            100600                           Ahipara      1614655.612   \n...             ...                               ...              ...   \n22425        201400                       Owhata East      1889063.588   \n22426        328600                            Aranui      1576181.215   \n22427        345800                     Teviot Valley      1321238.212   \n22428        307300                        Woodbourne      1675384.761   \n22429        331400  Hillsborough (Christchurch City)      1573359.215   \n\n       address_northing  school_address_code      school_address  \\\n0           6181775.249               100100          North Cape   \n1           6136232.766               100200    Rangaunu Harbour   \n2           6127415.055               100400  Karikari Peninsula   \n3           6113278.371               100500            Tangonge   \n4           6109255.026               100600             Ahipara   \n...                 ...                  ...                 ...   \n22425       5773749.837               201500             Lynmore   \n22426       5182438.834               330800          St Martins   \n22427       4946150.612               345600     Alexandra South   \n22428       5401921.874               308200    Redwoodtown West   \n22429       5176899.819               330900               Opawa   \n\n       school_easting  school_northin  Study_at_home  \\\n0         1579396.081     6181775.249             27   \n1         1612554.651     6136232.766             54   \n2         1634562.574     6127415.055             12   \n3         1619918.067     6113278.371             15   \n4         1614655.612     6109255.026              9   \n...               ...             ...            ...   \n22425     1888212.350     5772494.905              0   \n22426     1572050.696     5177246.086              0   \n22427     1315613.328     4982651.229              0   \n22428     1679135.141     5401975.780              0   \n22429     1572703.456     5177374.728              0   \n\n       Drive_a_car_truck_or_van  Passenger_in_a_car_truck_or_van  Train  \\\n0                             0                               45      0   \n1                             0                               42      0   \n2                             0                               18      0   \n3                             0                               12      0   \n4                             0                                9      0   \n...                         ...                              ...    ...   \n22425                         0                               45      0   \n22426                         0                                0      0   \n22427                         0                                0      0   \n22428                         0                                6      0   \n22429                         0                               24      0   \n\n       Bicycle  Walk_or_jog  School_bus  Public_bus  Ferry  Other  Total  \\\n0            0           12          60           0      0      0    147   \n1            0            0          42           0      0      0    147   \n2            0            0          24           0      0      0     54   \n3            0            0          15           0      0      0     45   \n4            0            0           0           0      0      0     27   \n...        ...          ...         ...         ...    ...    ...    ...   \n22425       15            6           0           0      0      0     69   \n22426        0            0           0           0      0      0      6   \n22427        0            0           0           0      0      0      6   \n22428        0            0           0           0      0      0      6   \n22429        9           18           0           0      0      0     54   \n\n       total_without_suppresed_values  \n0                                 144  \n1                                 138  \n2                                  54  \n3                                  42  \n4                                  18  \n...                               ...  \n22425                              66  \n22426                               0  \n22427                               0  \n22428                               6  \n22429                              51  \n\n[22430 rows x 20 columns]",
      "text/html": "<div>\n<style scoped>\n    .dataframe tbody tr th:only-of-type {\n        vertical-align: middle;\n    }\n\n    .dataframe tbody tr th {\n        vertical-align: top;\n    }\n\n    .dataframe thead th {\n        text-align: right;\n    }\n</style>\n<table border=\"1\" class=\"dataframe\">\n  <thead>\n    <tr style=\"text-align: right;\">\n      <th></th>\n      <th>address_code</th>\n      <th>address</th>\n      <th>address_easting</th>\n      <th>address_northing</th>\n      <th>school_address_code</th>\n      <th>school_address</th>\n      <th>school_easting</th>\n      <th>school_northin</th>\n      <th>Study_at_home</th>\n      <th>Drive_a_car_truck_or_van</th>\n      <th>Passenger_in_a_car_truck_or_van</th>\n      <th>Train</th>\n      <th>Bicycle</th>\n      <th>Walk_or_jog</th>\n      <th>School_bus</th>\n      <th>Public_bus</th>\n      <th>Ferry</th>\n      <th>Other</th>\n      <th>Total</th>\n      <th>total_without_suppresed_values</th>\n    </tr>\n  </thead>\n  <tbody>\n    <tr>\n      <th>0</th>\n      <td>100100</td>\n      <td>North Cape</td>\n      <td>1579396.081</td>\n      <td>6181775.249</td>\n      <td>100100</td>\n      <td>North Cape</td>\n      <td>1579396.081</td>\n      <td>6181775.249</td>\n      <td>27</td>\n      <td>0</td>\n      <td>45</td>\n      <td>0</td>\n      <td>0</td>\n      <td>12</td>\n      <td>60</td>\n      <td>0</td>\n      <td>0</td>\n      <td>0</td>\n      <td>147</td>\n      <td>144</td>\n    </tr>\n    <tr>\n      <th>1</th>\n      <td>100200</td>\n      <td>Rangaunu Harbour</td>\n      <td>1612554.651</td>\n      <td>6136232.766</td>\n      <td>100200</td>\n      <td>Rangaunu Harbour</td>\n      <td>1612554.651</td>\n      <td>6136232.766</td>\n      <td>54</td>\n      <td>0</td>\n      <td>42</td>\n      <td>0</td>\n      <td>0</td>\n      <td>0</td>\n      <td>42</td>\n      <td>0</td>\n      <td>0</td>\n      <td>0</td>\n      <td>147</td>\n      <td>138</td>\n    </tr>\n    <tr>\n      <th>2</th>\n      <td>100400</td>\n      <td>Karikari Peninsula</td>\n      <td>1634562.574</td>\n      <td>6127415.055</td>\n      <td>100400</td>\n      <td>Karikari Peninsula</td>\n      <td>1634562.574</td>\n      <td>6127415.055</td>\n      <td>12</td>\n      <td>0</td>\n      <td>18</td>\n      <td>0</td>\n      <td>0</td>\n      <td>0</td>\n      <td>24</td>\n      <td>0</td>\n      <td>0</td>\n      <td>0</td>\n      <td>54</td>\n      <td>54</td>\n    </tr>\n    <tr>\n      <th>3</th>\n      <td>100500</td>\n      <td>Tangonge</td>\n      <td>1619918.067</td>\n      <td>6113278.371</td>\n      <td>100500</td>\n      <td>Tangonge</td>\n      <td>1619918.067</td>\n      <td>6113278.371</td>\n      <td>15</td>\n      <td>0</td>\n      <td>12</td>\n      <td>0</td>\n      <td>0</td>\n      <td>0</td>\n      <td>15</td>\n      <td>0</td>\n      <td>0</td>\n      <td>0</td>\n      <td>45</td>\n      <td>42</td>\n    </tr>\n    <tr>\n      <th>4</th>\n      <td>100600</td>\n      <td>Ahipara</td>\n      <td>1614655.612</td>\n      <td>6109255.026</td>\n      <td>100600</td>\n      <td>Ahipara</td>\n      <td>1614655.612</td>\n      <td>6109255.026</td>\n      <td>9</td>\n      <td>0</td>\n      <td>9</td>\n      <td>0</td>\n      <td>0</td>\n      <td>0</td>\n      <td>0</td>\n      <td>0</td>\n      <td>0</td>\n      <td>0</td>\n      <td>27</td>\n      <td>18</td>\n    </tr>\n    <tr>\n      <th>...</th>\n      <td>...</td>\n      <td>...</td>\n      <td>...</td>\n      <td>...</td>\n      <td>...</td>\n      <td>...</td>\n      <td>...</td>\n      <td>...</td>\n      <td>...</td>\n      <td>...</td>\n      <td>...</td>\n      <td>...</td>\n      <td>...</td>\n      <td>...</td>\n      <td>...</td>\n      <td>...</td>\n      <td>...</td>\n      <td>...</td>\n      <td>...</td>\n      <td>...</td>\n    </tr>\n    <tr>\n      <th>22425</th>\n      <td>201400</td>\n      <td>Owhata East</td>\n      <td>1889063.588</td>\n      <td>5773749.837</td>\n      <td>201500</td>\n      <td>Lynmore</td>\n      <td>1888212.350</td>\n      <td>5772494.905</td>\n      <td>0</td>\n      <td>0</td>\n      <td>45</td>\n      <td>0</td>\n      <td>15</td>\n      <td>6</td>\n      <td>0</td>\n      <td>0</td>\n      <td>0</td>\n      <td>0</td>\n      <td>69</td>\n      <td>66</td>\n    </tr>\n    <tr>\n      <th>22426</th>\n      <td>328600</td>\n      <td>Aranui</td>\n      <td>1576181.215</td>\n      <td>5182438.834</td>\n      <td>330800</td>\n      <td>St Martins</td>\n      <td>1572050.696</td>\n      <td>5177246.086</td>\n      <td>0</td>\n      <td>0</td>\n      <td>0</td>\n      <td>0</td>\n      <td>0</td>\n      <td>0</td>\n      <td>0</td>\n      <td>0</td>\n      <td>0</td>\n      <td>0</td>\n      <td>6</td>\n      <td>0</td>\n    </tr>\n    <tr>\n      <th>22427</th>\n      <td>345800</td>\n      <td>Teviot Valley</td>\n      <td>1321238.212</td>\n      <td>4946150.612</td>\n      <td>345600</td>\n      <td>Alexandra South</td>\n      <td>1315613.328</td>\n      <td>4982651.229</td>\n      <td>0</td>\n      <td>0</td>\n      <td>0</td>\n      <td>0</td>\n      <td>0</td>\n      <td>0</td>\n      <td>0</td>\n      <td>0</td>\n      <td>0</td>\n      <td>0</td>\n      <td>6</td>\n      <td>0</td>\n    </tr>\n    <tr>\n      <th>22428</th>\n      <td>307300</td>\n      <td>Woodbourne</td>\n      <td>1675384.761</td>\n      <td>5401921.874</td>\n      <td>308200</td>\n      <td>Redwoodtown West</td>\n      <td>1679135.141</td>\n      <td>5401975.780</td>\n      <td>0</td>\n      <td>0</td>\n      <td>6</td>\n      <td>0</td>\n      <td>0</td>\n      <td>0</td>\n      <td>0</td>\n      <td>0</td>\n      <td>0</td>\n      <td>0</td>\n      <td>6</td>\n      <td>6</td>\n    </tr>\n    <tr>\n      <th>22429</th>\n      <td>331400</td>\n      <td>Hillsborough (Christchurch City)</td>\n      <td>1573359.215</td>\n      <td>5176899.819</td>\n      <td>330900</td>\n      <td>Opawa</td>\n      <td>1572703.456</td>\n      <td>5177374.728</td>\n      <td>0</td>\n      <td>0</td>\n      <td>24</td>\n      <td>0</td>\n      <td>9</td>\n      <td>18</td>\n      <td>0</td>\n      <td>0</td>\n      <td>0</td>\n      <td>0</td>\n      <td>54</td>\n      <td>51</td>\n    </tr>\n  </tbody>\n</table>\n<p>22430 rows × 20 columns</p>\n</div>"
     },
     "metadata": {},
     "execution_count": 2
    }
   ],
   "source": []
  },
  {
   "cell_type": "code",
   "execution_count": null,
   "metadata": {
    "tags": []
   },
   "outputs": [],
   "source": [
    "#get lat long column for looping\n",
    "centroid_df = pd.read_csv('./csv/statistical-area-2-2018-centroid-inside.csv')\n",
    "coord = centroid_df.loc[:, 'latitude':'longitude']\n",
    "coord.head()\n"
   ]
  },
  {
   "cell_type": "code",
   "execution_count": null,
   "metadata": {},
   "outputs": [],
   "source": [
    "#function for adding a marker for each coord pair\n",
    "def add_marker(map, lat, long):\n",
    "    for lat, long in zip(lat, long):\n",
    "        folium.Marker([lat, long], radius=1).add_to(map)"
   ]
  },
  {
   "cell_type": "code",
   "execution_count": null,
   "metadata": {},
   "outputs": [],
   "source": [
    "#can use bokeh/vega/etc. to generate plot for each point on click!\n",
    "import folium\n",
    "\n",
    "#nzstat API to get the layer based on stat area 2018\n",
    "source = \"https://koordinates-tiles-a.global.ssl.fastly.net/services;key=3d78b0edcb904f298c10ff9d288d550b/tiles/v4/layer=92212/EPSG:3857/{z}/{x}/{y}.png\"\n",
    "\n",
    "#mapbox key to get their base map layer (not used below)\n",
    "mapbox_key = 'pk.eyJ1IjoidGhhbmdwaGFtNzc5MyIsImEiOiJja2Jwb3VjangyYmE2MnJwZnhhbHR0aGUyIn0.nX_zeCSrkktjc3k148oQCA'\n",
    "\n",
    "#create a base map with a center point and zoom level\n",
    "m = folium.Map(location=[-34.50545276,172.77554997], zoom_start=5)\n",
    "\n",
    "#add nzstats map on top of the base\n",
    "folium.TileLayer(tiles=source, attr='Stat NZ Generalised SA 2018', overlay=True).add_to(m)\n",
    "\n",
    "#add marker to the center of each area\n",
    "add_marker(m, coord['latitude'], coord['longitude'])\n",
    "m.save('sample.html')"
   ]
  },
  {
   "cell_type": "code",
   "execution_count": null,
   "metadata": {},
   "outputs": [],
   "source": []
  }
 ],
 "metadata": {
  "language_info": {
   "codemirror_mode": {
    "name": "ipython",
    "version": 3
   },
   "file_extension": ".py",
   "mimetype": "text/x-python",
   "name": "python",
   "nbconvert_exporter": "python",
   "pygments_lexer": "ipython3",
   "version": "3.8.2-final"
  },
  "orig_nbformat": 2,
  "kernelspec": {
   "name": "python38264bitvenvvenv78ab1f7bd5784385bd464b991f848cfd",
   "display_name": "Python 3.8.2 64-bit ('venv': venv)"
  }
 },
 "nbformat": 4,
 "nbformat_minor": 2
}